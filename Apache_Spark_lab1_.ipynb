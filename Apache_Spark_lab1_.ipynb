{
  "nbformat": 4,
  "nbformat_minor": 0,
  "metadata": {
    "colab": {
      "provenance": [],
      "authorship_tag": "ABX9TyOVtL9962v2aZPYIRjwvTCX",
      "include_colab_link": true
    },
    "kernelspec": {
      "name": "python3",
      "display_name": "Python 3"
    },
    "language_info": {
      "name": "python"
    }
  },
  "cells": [
    {
      "cell_type": "markdown",
      "metadata": {
        "id": "view-in-github",
        "colab_type": "text"
      },
      "source": [
        "<a href=\"https://colab.research.google.com/github/richardtekere09/AI-ML_2025_machine-learning_Druki_Alexey/blob/main/Apache_Spark_lab1_.ipynb\" target=\"_parent\"><img src=\"https://colab.research.google.com/assets/colab-badge.svg\" alt=\"Open In Colab\"/></a>"
      ]
    },
    {
      "cell_type": "markdown",
      "source": [
        "## Apache Spark Lab1\n"
      ],
      "metadata": {
        "id": "XE2dFQgtF7p9"
      }
    },
    {
      "cell_type": "markdown",
      "source": [
        "1.Data Analysis with Spark SQL\n",
        "\n",
        "> install and import PySpark and related libraries in the Colab notebook. Then creating a Spark session which serves as the entry point to Spark. In this lab, the Spark application name is set to \"PythonSQLAPP\", but no master URL is specified so it runs locally by default.\n",
        "\n"
      ],
      "metadata": {
        "id": "b8ietdwIIV_y"
      }
    },
    {
      "cell_type": "code",
      "source": [
        "!pip install pyspark  # Install Spark if not already available\n",
        "import pyspark\n",
        "from pyspark.sql import SparkSession\n",
        "from pyspark.sql.functions import avg, count, col,countDistinct, round, mean,max, when\n",
        "from pyspark.sql.types import *\n",
        "from functools import reduce\n",
        "\n",
        "# Initialize Spark session\n",
        "spark = SparkSession.builder.appName(\"PythonSQLAPP\").getOrCreate()\n",
        "print(\"Spark Version:\", pyspark.__version__)\n"
      ],
      "metadata": {
        "colab": {
          "base_uri": "https://localhost:8080/"
        },
        "id": "i188k0qwGJo2",
        "outputId": "e2adc82d-f9f0-4f9c-a123-8d5c0d819071"
      },
      "execution_count": 16,
      "outputs": [
        {
          "output_type": "stream",
          "name": "stdout",
          "text": [
            "Requirement already satisfied: pyspark in /usr/local/lib/python3.11/dist-packages (3.5.5)\n",
            "Requirement already satisfied: py4j==0.10.9.7 in /usr/local/lib/python3.11/dist-packages (from pyspark) (0.10.9.7)\n",
            "Spark Version: 3.5.5\n"
          ]
        }
      ]
    },
    {
      "cell_type": "code",
      "source": [
        "# Read the Brooklyn sales dataset into a DataFrame\n",
        "data = spark.read.csv('brooklyn_sales_map.csv', header=True, inferSchema=True)\n",
        "data.printSchema()        # Print the inferred schema of the DataFrame\n",
        "data.show(5)              # Display the first 5 rows of the dataset"
      ],
      "metadata": {
        "colab": {
          "base_uri": "https://localhost:8080/"
        },
        "id": "GjRFsVwZOwmP",
        "outputId": "4505d721-a633-46a2-ad85-43cee0472c05"
      },
      "execution_count": 7,
      "outputs": [
        {
          "output_type": "stream",
          "name": "stdout",
          "text": [
            "root\n",
            " |-- _c0: integer (nullable = true)\n",
            " |-- borough1: integer (nullable = true)\n",
            " |-- neighborhood: string (nullable = true)\n",
            " |-- building_class_category: string (nullable = true)\n",
            " |-- tax_class: string (nullable = true)\n",
            " |-- block: integer (nullable = true)\n",
            " |-- lot: integer (nullable = true)\n",
            " |-- easement: string (nullable = true)\n",
            " |-- building_class: string (nullable = true)\n",
            " |-- address9: string (nullable = true)\n",
            " |-- apartment_number: string (nullable = true)\n",
            " |-- zip_code: integer (nullable = true)\n",
            " |-- residential_units: integer (nullable = true)\n",
            " |-- commercial_units: integer (nullable = true)\n",
            " |-- total_units: integer (nullable = true)\n",
            " |-- land_sqft: double (nullable = true)\n",
            " |-- gross_sqft: double (nullable = true)\n",
            " |-- year_built: integer (nullable = true)\n",
            " |-- tax_class_at_sale: integer (nullable = true)\n",
            " |-- building_class_at_sale: string (nullable = true)\n",
            " |-- sale_price: double (nullable = true)\n",
            " |-- sale_date: date (nullable = true)\n",
            " |-- year_of_sale: integer (nullable = true)\n",
            " |-- Borough23: string (nullable = true)\n",
            " |-- CD: string (nullable = true)\n",
            " |-- CT2010: string (nullable = true)\n",
            " |-- CB2010: string (nullable = true)\n",
            " |-- SchoolDist: string (nullable = true)\n",
            " |-- Council: string (nullable = true)\n",
            " |-- ZipCode: string (nullable = true)\n",
            " |-- FireComp: string (nullable = true)\n",
            " |-- PolicePrct: string (nullable = true)\n",
            " |-- HealthCent: string (nullable = true)\n",
            " |-- HealthArea: string (nullable = true)\n",
            " |-- SanitBoro: string (nullable = true)\n",
            " |-- SanitDistr: string (nullable = true)\n",
            " |-- SanitSub: string (nullable = true)\n",
            " |-- Address37: string (nullable = true)\n",
            " |-- ZoneDist1: string (nullable = true)\n",
            " |-- ZoneDist2: string (nullable = true)\n",
            " |-- ZoneDist3: string (nullable = true)\n",
            " |-- ZoneDist4: string (nullable = true)\n",
            " |-- Overlay1: string (nullable = true)\n",
            " |-- Overlay2: string (nullable = true)\n",
            " |-- SPDist1: string (nullable = true)\n",
            " |-- SPDist2: string (nullable = true)\n",
            " |-- SPDist3: string (nullable = true)\n",
            " |-- LtdHeight: string (nullable = true)\n",
            " |-- SplitZone: string (nullable = true)\n",
            " |-- BldgClass: string (nullable = true)\n",
            " |-- LandUse: string (nullable = true)\n",
            " |-- Easements: string (nullable = true)\n",
            " |-- OwnerType: string (nullable = true)\n",
            " |-- OwnerName: string (nullable = true)\n",
            " |-- LotArea: string (nullable = true)\n",
            " |-- BldgArea: string (nullable = true)\n",
            " |-- ComArea: string (nullable = true)\n",
            " |-- ResArea: string (nullable = true)\n",
            " |-- OfficeArea: string (nullable = true)\n",
            " |-- RetailArea: string (nullable = true)\n",
            " |-- GarageArea: string (nullable = true)\n",
            " |-- StrgeArea: string (nullable = true)\n",
            " |-- FactryArea: string (nullable = true)\n",
            " |-- OtherArea: string (nullable = true)\n",
            " |-- AreaSource: string (nullable = true)\n",
            " |-- NumBldgs: string (nullable = true)\n",
            " |-- NumFloors: string (nullable = true)\n",
            " |-- UnitsRes: string (nullable = true)\n",
            " |-- UnitsTotal: string (nullable = true)\n",
            " |-- LotFront: string (nullable = true)\n",
            " |-- LotDepth: string (nullable = true)\n",
            " |-- BldgFront: string (nullable = true)\n",
            " |-- BldgDepth: string (nullable = true)\n",
            " |-- Ext: string (nullable = true)\n",
            " |-- ProxCode: string (nullable = true)\n",
            " |-- IrrLotCode: string (nullable = true)\n",
            " |-- LotType: string (nullable = true)\n",
            " |-- BsmtCode: string (nullable = true)\n",
            " |-- AssessLand: string (nullable = true)\n",
            " |-- AssessTot: string (nullable = true)\n",
            " |-- ExemptLand: string (nullable = true)\n",
            " |-- ExemptTot: string (nullable = true)\n",
            " |-- YearBuilt: string (nullable = true)\n",
            " |-- YearAlter1: string (nullable = true)\n",
            " |-- YearAlter2: string (nullable = true)\n",
            " |-- HistDist: string (nullable = true)\n",
            " |-- Landmark: string (nullable = true)\n",
            " |-- BuiltFAR: string (nullable = true)\n",
            " |-- ResidFAR: string (nullable = true)\n",
            " |-- CommFAR: string (nullable = true)\n",
            " |-- FacilFAR: string (nullable = true)\n",
            " |-- BoroCode: string (nullable = true)\n",
            " |-- BBL: string (nullable = true)\n",
            " |-- CondoNo: string (nullable = true)\n",
            " |-- Tract2010: string (nullable = true)\n",
            " |-- XCoord: string (nullable = true)\n",
            " |-- YCoord: string (nullable = true)\n",
            " |-- ZoneMap: string (nullable = true)\n",
            " |-- ZMCode: string (nullable = true)\n",
            " |-- Sanborn: string (nullable = true)\n",
            " |-- TaxMap: string (nullable = true)\n",
            " |-- EDesigNum: string (nullable = true)\n",
            " |-- APPBBL: string (nullable = true)\n",
            " |-- APPDate: string (nullable = true)\n",
            " |-- PLUTOMapID: string (nullable = true)\n",
            " |-- FIRM07_FLA: string (nullable = true)\n",
            " |-- PFIRM15_FL: string (nullable = true)\n",
            " |-- Version: string (nullable = true)\n",
            " |-- MAPPLUTO_F: string (nullable = true)\n",
            " |-- SHAPE_Leng: string (nullable = true)\n",
            " |-- SHAPE_Area: string (nullable = true)\n",
            "\n",
            "+---+--------+--------------------+-----------------------+---------+-----+----+--------+--------------+-------------------+----------------+--------+-----------------+----------------+-----------+---------+----------+----------+-----------------+----------------------+------------+----------+------------+---------+---+------+------+----------+-------+-------+--------+----------+----------+----------+---------+----------+--------+-------------------+---------+---------+---------+---------+--------+--------+-------+-------+-------+---------+---------+---------+-------+---------+---------+--------------------+-------+--------+-------+-------+----------+----------+----------+---------+----------+---------+----------+--------+---------+--------+----------+--------+--------+---------+---------+---+--------+----------+-------+--------+----------+---------+----------+---------+---------+----------+----------+--------------------+--------+--------+--------+-------+--------+--------+----------+-------+---------+-------+------+-------+------+-------+------+---------+----------+----------+----------+----------+----------+-------+----------+-------------+-------------+\n",
            "|_c0|borough1|        neighborhood|building_class_category|tax_class|block| lot|easement|building_class|           address9|apartment_number|zip_code|residential_units|commercial_units|total_units|land_sqft|gross_sqft|year_built|tax_class_at_sale|building_class_at_sale|  sale_price| sale_date|year_of_sale|Borough23| CD|CT2010|CB2010|SchoolDist|Council|ZipCode|FireComp|PolicePrct|HealthCent|HealthArea|SanitBoro|SanitDistr|SanitSub|          Address37|ZoneDist1|ZoneDist2|ZoneDist3|ZoneDist4|Overlay1|Overlay2|SPDist1|SPDist2|SPDist3|LtdHeight|SplitZone|BldgClass|LandUse|Easements|OwnerType|           OwnerName|LotArea|BldgArea|ComArea|ResArea|OfficeArea|RetailArea|GarageArea|StrgeArea|FactryArea|OtherArea|AreaSource|NumBldgs|NumFloors|UnitsRes|UnitsTotal|LotFront|LotDepth|BldgFront|BldgDepth|Ext|ProxCode|IrrLotCode|LotType|BsmtCode|AssessLand|AssessTot|ExemptLand|ExemptTot|YearBuilt|YearAlter1|YearAlter2|            HistDist|Landmark|BuiltFAR|ResidFAR|CommFAR|FacilFAR|BoroCode|       BBL|CondoNo|Tract2010| XCoord|YCoord|ZoneMap|ZMCode|Sanborn|TaxMap|EDesigNum|    APPBBL|   APPDate|PLUTOMapID|FIRM07_FLA|PFIRM15_FL|Version|MAPPLUTO_F|   SHAPE_Leng|   SHAPE_Area|\n",
            "+---+--------+--------------------+-----------------------+---------+-----+----+--------+--------------+-------------------+----------------+--------+-----------------+----------------+-----------+---------+----------+----------+-----------------+----------------------+------------+----------+------------+---------+---+------+------+----------+-------+-------+--------+----------+----------+----------+---------+----------+--------+-------------------+---------+---------+---------+---------+--------+--------+-------+-------+-------+---------+---------+---------+-------+---------+---------+--------------------+-------+--------+-------+-------+----------+----------+----------+---------+----------+---------+----------+--------+---------+--------+----------+--------+--------+---------+---------+---+--------+----------+-------+--------+----------+---------+----------+---------+---------+----------+----------+--------------------+--------+--------+--------+-------+--------+--------+----------+-------+---------+-------+------+-------+------+-------+------+---------+----------+----------+----------+----------+----------+-------+----------+-------------+-------------+\n",
            "|  1|       3|  DOWNTOWN-METROTECH|   28  COMMERCIAL CO...|        4|  140|1001|    NULL|            R5|     330 JAY STREET|           COURT|   11201|                0|               1|          1|      0.0|       0.0|      2002|                4|                    R5|4.99401179E8|2008-04-23|        2008|       NA| NA|    NA|    NA|        NA|     NA|     NA|      NA|        NA|        NA|        NA|       NA|        NA|      NA|                 NA|       NA|       NA|       NA|       NA|      NA|      NA|     NA|     NA|     NA|       NA|       NA|       NA|     NA|       NA|       NA|                  NA|     NA|      NA|     NA|     NA|        NA|        NA|        NA|       NA|        NA|       NA|        NA|      NA|       NA|      NA|        NA|      NA|      NA|       NA|       NA| NA|      NA|        NA|     NA|      NA|        NA|       NA|        NA|       NA|       NA|        NA|        NA|                  NA|      NA|      NA|      NA|     NA|      NA|      NA|        NA|     NA|       NA|     NA|    NA|     NA|    NA|     NA|    NA|       NA|        NA|        NA|        NA|        NA|        NA|     NA|        NA|           NA|           NA|\n",
            "|  2|       3|DOWNTOWN-FULTON F...|   29  COMMERCIAL GA...|        4|   54|   1|    NULL|            G7|      85 JAY STREET|            NULL|   11201|                0|               0|          0| 134988.0|       0.0|         0|                4|                    G7|      3.45E8|2016-12-20|        2016|       BK|302|    21|  3017|        13|     33|  11201|    L118|        84|        36|      1000|        3|        02|      1B|      87 JAY STREET|  M1-2/R8|       NA|       NA|       NA|      NA|      NA|   MX-2|     NA|     NA|       NA|        N|       G7|     10|        0|        P|85 JAY STREET BRO...| 134988|       0|      0|      0|         0|         0|         0|        0|         0|        0|         7|       0|        0|       0|         0|   490.5|  275.33|        0|        0| NA|       0|         N|      5|       5|   1571850|  1571850|   1571850|  1571850|        0|         0|         0|                  NA|      NA|       0|     7.2|      2|     6.5|       3|3000540001|      0|     0021| 988208|195011|    12d|    NA|302 016| 30101|       NA|3000540001|12/06/2002|         1|        NA|        NA| 17V1.1|         0|1559.88914353|140131.577176|\n",
            "|  3|       3|    BROOKLYN HEIGHTS|   21  OFFICE BUILDINGS|        4|  204|   1|    NULL|            O6|29 COLUMBIA HEIGHTS|            NULL|   11201|                0|               0|          0|  32000.0|  304650.0|      1924|                4|                    O6|       3.4E8|2016-08-03|        2016|       BK|302|     1|  1003|        13|     33|  11201|    E205|        84|        38|      2300|        3|        02|      1A|29 COLUMBIA HEIGHTS|     M2-1|       NA|       NA|       NA|      NA|      NA|     NA|     NA|     NA|       NA|        N|       O6|     05|        0|       NA|25-30 COLUMBIA HE...|  32000|  304650| 304650|      0|    264750|         0|         0|        0|         0|    39900|         2|       1|       13|       0|         0|   92.42|  335.92|      335|       92| NA|       0|         Y|      3|       5|   1548000| 25463250|         0|        0|     1924|      1980|         0|                  NA|      NA|    9.52|       0|      2|       0|       3|3002040001|      0|     0001| 985952|195007|    12d|    NA|302 004| 30106|       NA|         0|        NA|         1|        NA|        NA| 17V1.1|         0|890.718521021|34656.4472405|\n",
            "|  4|       3|          MILL BASIN|    22  STORE BUILDINGS|        4| 8470|  55|    NULL|            K6|      5120 AVENUE U|            NULL|   11234|                0|             123|        123| 905000.0| 2548000.0|      1970|                4|                    K6|   2.76947E8|2012-11-28|        2012|       BK|318|   698|  2005|        22|     46|  11234|    E323|        63|        35|      8822|        3|        18|      4E|      5120 AVENUE U|     M3-1|       NA|       NA|       NA|      NA|      NA|     NA|     NA|     NA|       NA|        N|       K6|     05|        1|       NA|BROOKLYN KINGS PLAZA| 905000| 2548000|2548000|      0|         0|   1263000|   1285000|        0|         0|        0|         2|       4|        2|       0|       123|     930|     859|        0|        0| NA|       0|         Y|      3|       5|  36532350|149792400|         0|        0|     1970|         0|         0|                  NA|      NA|    2.82|       0|      2|       0|       3|3084700055|      0|     0698|1006597|161424|    23b|    NA|319 077| 32502|       NA|         0|        NA|         1|         1|         1| 17V1.1|         0|3729.78685686|797554.847834|\n",
            "|  5|       3|    BROOKLYN HEIGHTS|        26 OTHER HOTELS|        4|  230|   1|    NULL|            H8|    21 CLARK STREET|            NULL|   11201|                0|               1|          1|  20267.0|  356000.0|      1927|                4|                    H8|     2.025E8|2017-10-31|        2017|       BK|302|  3.01|  2000|        13|     33|  11201|    E205|        84|        38|      2300|        3|        02|      1A|   79 WILLOW STREET|       R6|       NA|       NA|       NA|      NA|      NA|     NA|     NA|     NA|     LH-1|        N|       H8|     08|        0|        X|WATCHTOWER C/O RE...|  20267|  356000|  30000|      0|     30000|         0|         0|        0|         0|        0|         2|       1|       15|       0|         1|     202|  100.33|      202|   100.33| NA|       0|         N|      3|       2|   2250000| 27166050|   2250000| 27166050|     1927|      1998|      2000|Brooklyn Heights ...|      NA|   17.57|    2.43|      0|     4.8|       3|3002300001|      0|   000301| 985622|193713|    12d|    NA|302 014| 30106|       NA|         0|        NA|         1|        NA|        NA| 17V1.1|         0|620.761169374|21360.1476315|\n",
            "+---+--------+--------------------+-----------------------+---------+-----+----+--------+--------------+-------------------+----------------+--------+-----------------+----------------+-----------+---------+----------+----------+-----------------+----------------------+------------+----------+------------+---------+---+------+------+----------+-------+-------+--------+----------+----------+----------+---------+----------+--------+-------------------+---------+---------+---------+---------+--------+--------+-------+-------+-------+---------+---------+---------+-------+---------+---------+--------------------+-------+--------+-------+-------+----------+----------+----------+---------+----------+---------+----------+--------+---------+--------+----------+--------+--------+---------+---------+---+--------+----------+-------+--------+----------+---------+----------+---------+---------+----------+----------+--------------------+--------+--------+--------+-------+--------+--------+----------+-------+---------+-------+------+-------+------+-------+------+---------+----------+----------+----------+----------+----------+-------+----------+-------------+-------------+\n",
            "only showing top 5 rows\n",
            "\n"
          ]
        }
      ]
    },
    {
      "cell_type": "code",
      "source": [
        "# 1. Calculate the average sale price of homes\n",
        "avg_price = data.select(avg(col('sale_price'))).collect()[0][0]\n",
        "print('Average sale:', avg_price)\n"
      ],
      "metadata": {
        "colab": {
          "base_uri": "https://localhost:8080/"
        },
        "id": "PhCiF1TbVZHU",
        "outputId": "23a5b8e2-b860-46a6-9364-6888687fc046"
      },
      "execution_count": 7,
      "outputs": [
        {
          "output_type": "stream",
          "name": "stdout",
          "text": [
            "Average sale: 18041966.45317546\n"
          ]
        }
      ]
    },
    {
      "cell_type": "code",
      "source": [
        "# 2. Find average gross square footage for each year\n",
        "area_by_year = data.groupBy(\"year_built\") \\\n",
        "                   .agg(avg(\"gross_sqft\").alias(\"avg_gross_sqft_per_year\"))\n",
        "area_by_year.show(5)\n"
      ],
      "metadata": {
        "colab": {
          "base_uri": "https://localhost:8080/"
        },
        "id": "xQyxRx7rVplw",
        "outputId": "27eb35a8-f9e5-48df-9282-50cab946a45f"
      },
      "execution_count": 8,
      "outputs": [
        {
          "output_type": "stream",
          "name": "stdout",
          "text": [
            "+----------+-----------------------+\n",
            "|year_built|avg_gross_sqft_per_year|\n",
            "+----------+-----------------------+\n",
            "|      1959|     63228.944444444445|\n",
            "|      1829|                 4540.0|\n",
            "|      1990|      7595.333333333333|\n",
            "|      1903|                72064.0|\n",
            "|      1975|     140465.55555555556|\n",
            "+----------+-----------------------+\n",
            "only showing top 5 rows\n",
            "\n"
          ]
        }
      ]
    },
    {
      "cell_type": "code",
      "source": [
        "# Средняя стоимость жилья по районам\n",
        "avg_sale_by_neighborhood = data.groupBy(\"neighborhood\").agg(avg(\"sale_price\").alias(\"avg_sale_price\"))\n",
        "avg_sale_by_neighborhood.show(5)\n",
        "\n",
        "# Средняя площадь жилья по сочетаниям налоговой категории и года продажи\n",
        "avg_gross_by_tax_and_year = data.groupBy(\"tax_class\", \"year_of_sale\") \\\n",
        "                                .agg(avg(\"gross_sqft\").alias(\"avg_gross_sqft\"))\n",
        "avg_gross_by_tax_and_year.show(5)\n"
      ],
      "metadata": {
        "colab": {
          "base_uri": "https://localhost:8080/"
        },
        "id": "b7pCbo3Ecxs_",
        "outputId": "44ce2c02-6362-4184-cc87-72aed0c6a933"
      },
      "execution_count": 10,
      "outputs": [
        {
          "output_type": "stream",
          "name": "stdout",
          "text": [
            "+-------------------+--------------------+\n",
            "|       neighborhood|      avg_sale_price|\n",
            "+-------------------+--------------------+\n",
            "|     FLATBUSH-NORTH|1.3510520720930232E7|\n",
            "|      CYPRESS HILLS|          1.878909E7|\n",
            "|        BENSONHURST|           9501500.0|\n",
            "|       BOROUGH PARK|1.0469132839285715E7|\n",
            "|OCEAN PARKWAY-NORTH| 1.203814338095238E7|\n",
            "+-------------------+--------------------+\n",
            "only showing top 5 rows\n",
            "\n",
            "+---------+------------+-----------------+\n",
            "|tax_class|year_of_sale|   avg_gross_sqft|\n",
            "+---------+------------+-----------------+\n",
            "|        4|        2009|       46217.8125|\n",
            "|        2|        2017|39115.19117647059|\n",
            "|       2A|        2007|           6570.0|\n",
            "|       1B|        2015|              0.0|\n",
            "|       2C|        2017|              0.0|\n",
            "+---------+------------+-----------------+\n",
            "only showing top 5 rows\n",
            "\n"
          ]
        }
      ]
    },
    {
      "cell_type": "code",
      "source": [
        "# 4. Подсчёт количества пустых значений по колонкам\n",
        "from pyspark.sql.functions import col, sum as _sum\n",
        "\n",
        "null_counts = data.select([_sum(col(c).isNull().cast(\"int\")).alias(c) for c in data.columns])\n",
        "null_counts.show()\n"
      ],
      "metadata": {
        "colab": {
          "base_uri": "https://localhost:8080/"
        },
        "id": "2CKu3xrheKpM",
        "outputId": "c61da5e1-d044-4573-ee1c-848b28954369"
      },
      "execution_count": 12,
      "outputs": [
        {
          "output_type": "stream",
          "name": "stdout",
          "text": [
            "+---+--------+------------+-----------------------+---------+-----+---+--------+--------------+--------+----------------+--------+-----------------+----------------+-----------+---------+----------+----------+-----------------+----------------------+----------+---------+------------+---------+---+------+------+----------+-------+-------+--------+----------+----------+----------+---------+----------+--------+---------+---------+---------+---------+---------+--------+--------+-------+-------+-------+---------+---------+---------+-------+---------+---------+---------+-------+--------+-------+-------+----------+----------+----------+---------+----------+---------+----------+--------+---------+--------+----------+--------+--------+---------+---------+---+--------+----------+-------+--------+----------+---------+----------+---------+---------+----------+----------+--------+--------+--------+--------+-------+--------+--------+---+-------+---------+------+------+-------+------+-------+------+---------+------+-------+----------+----------+----------+-------+----------+----------+----------+\n",
            "|_c0|borough1|neighborhood|building_class_category|tax_class|block|lot|easement|building_class|address9|apartment_number|zip_code|residential_units|commercial_units|total_units|land_sqft|gross_sqft|year_built|tax_class_at_sale|building_class_at_sale|sale_price|sale_date|year_of_sale|Borough23| CD|CT2010|CB2010|SchoolDist|Council|ZipCode|FireComp|PolicePrct|HealthCent|HealthArea|SanitBoro|SanitDistr|SanitSub|Address37|ZoneDist1|ZoneDist2|ZoneDist3|ZoneDist4|Overlay1|Overlay2|SPDist1|SPDist2|SPDist3|LtdHeight|SplitZone|BldgClass|LandUse|Easements|OwnerType|OwnerName|LotArea|BldgArea|ComArea|ResArea|OfficeArea|RetailArea|GarageArea|StrgeArea|FactryArea|OtherArea|AreaSource|NumBldgs|NumFloors|UnitsRes|UnitsTotal|LotFront|LotDepth|BldgFront|BldgDepth|Ext|ProxCode|IrrLotCode|LotType|BsmtCode|AssessLand|AssessTot|ExemptLand|ExemptTot|YearBuilt|YearAlter1|YearAlter2|HistDist|Landmark|BuiltFAR|ResidFAR|CommFAR|FacilFAR|BoroCode|BBL|CondoNo|Tract2010|XCoord|YCoord|ZoneMap|ZMCode|Sanborn|TaxMap|EDesigNum|APPBBL|APPDate|PLUTOMapID|FIRM07_FLA|PFIRM15_FL|Version|MAPPLUTO_F|SHAPE_Leng|SHAPE_Area|\n",
            "+---+--------+------------+-----------------------+---------+-----+---+--------+--------------+--------+----------------+--------+-----------------+----------------+-----------+---------+----------+----------+-----------------+----------------------+----------+---------+------------+---------+---+------+------+----------+-------+-------+--------+----------+----------+----------+---------+----------+--------+---------+---------+---------+---------+---------+--------+--------+-------+-------+-------+---------+---------+---------+-------+---------+---------+---------+-------+--------+-------+-------+----------+----------+----------+---------+----------+---------+----------+--------+---------+--------+----------+--------+--------+---------+---------+---+--------+----------+-------+--------+----------+---------+----------+---------+---------+----------+----------+--------+--------+--------+--------+-------+--------+--------+---+-------+---------+------+------+-------+------+-------+------+---------+------+-------+----------+----------+----------+-------+----------+----------+----------+\n",
            "|  0|       0|           0|                      0|       35|    0|  0|    1858|            35|       0|            1419|       0|                0|               0|          0|        0|         0|         0|                0|                     0|         0|        0|           0|        0|  0|     0|     0|         0|      0|      0|       0|         0|         0|         0|        0|         0|       0|        0|        0|        0|        0|        0|       0|       0|      0|      0|      0|        0|        0|        0|      0|        0|        0|        0|      0|       0|      0|      0|         0|         0|         0|        0|         0|        0|         0|       0|        0|       0|         0|       0|       0|        0|        0|  0|       0|         0|      0|       0|         0|        0|         0|        0|        0|         0|         0|       0|       0|       0|       0|      0|       0|       0|  0|      0|        0|     0|     0|      0|     0|      0|     0|        0|     0|      0|         0|         0|         0|      0|         0|         0|         0|\n",
            "+---+--------+------------+-----------------------+---------+-----+---+--------+--------------+--------+----------------+--------+-----------------+----------------+-----------+---------+----------+----------+-----------------+----------------------+----------+---------+------------+---------+---+------+------+----------+-------+-------+--------+----------+----------+----------+---------+----------+--------+---------+---------+---------+---------+---------+--------+--------+-------+-------+-------+---------+---------+---------+-------+---------+---------+---------+-------+--------+-------+-------+----------+----------+----------+---------+----------+---------+----------+--------+---------+--------+----------+--------+--------+---------+---------+---+--------+----------+-------+--------+----------+---------+----------+---------+---------+----------+----------+--------+--------+--------+--------+-------+--------+--------+---+-------+---------+------+------+-------+------+-------+------+---------+------+-------+----------+----------+----------+-------+----------+----------+----------+\n",
            "\n"
          ]
        }
      ]
    },
    {
      "cell_type": "code",
      "source": [
        "# 5. Средняя дата продажи по индексам и налоговым категориям\n",
        "avg_sale_year_by_zip_tax = data.groupBy(\"zip_code\", \"tax_class\") \\\n",
        "                               .agg(avg(\"year_of_sale\").alias(\"avg_year_of_sale\"))\n",
        "avg_sale_year_by_zip_tax.show(5)\n"
      ],
      "metadata": {
        "colab": {
          "base_uri": "https://localhost:8080/"
        },
        "id": "IeLhYtUtflED",
        "outputId": "7f95fb2d-a562-4391-ec78-e496e26897da"
      },
      "execution_count": 13,
      "outputs": [
        {
          "output_type": "stream",
          "name": "stdout",
          "text": [
            "+--------+---------+------------------+\n",
            "|zip_code|tax_class|  avg_year_of_sale|\n",
            "+--------+---------+------------------+\n",
            "|   11205|       1B|2012.6666666666667|\n",
            "|   11234|        2|2011.2222222222222|\n",
            "|   11205|        2|            2014.0|\n",
            "|   11203|        4|            2014.8|\n",
            "|   11204|        2|            2013.0|\n",
            "+--------+---------+------------------+\n",
            "only showing top 5 rows\n",
            "\n"
          ]
        }
      ]
    },
    {
      "cell_type": "code",
      "source": [
        "# 6. Средний год постройки\n",
        "avg_year_built = data.select(avg(\"year_built\")).collect()[0][0]\n",
        "\n",
        "# Добавляем колонку с отклонением от среднего\n",
        "data_with_year_diff = data.withColumn(\"year_built_deviation\", col(\"year_built\") - avg_year_built)\n",
        "data_with_year_diff.select(\"year_built\", \"year_built_deviation\").show(5)\n"
      ],
      "metadata": {
        "colab": {
          "base_uri": "https://localhost:8080/"
        },
        "id": "ZtKjVIhgg_ID",
        "outputId": "8ccb843b-3e61-4e98-bc54-301af10bf87c"
      },
      "execution_count": 14,
      "outputs": [
        {
          "output_type": "stream",
          "name": "stdout",
          "text": [
            "+----------+--------------------+\n",
            "|year_built|year_built_deviation|\n",
            "+----------+--------------------+\n",
            "|      2002|   258.9246501614639|\n",
            "|         0|  -1743.075349838536|\n",
            "|      1924|   180.9246501614639|\n",
            "|      1970|   226.9246501614639|\n",
            "|      1927|   183.9246501614639|\n",
            "+----------+--------------------+\n",
            "only showing top 5 rows\n",
            "\n"
          ]
        }
      ]
    },
    {
      "cell_type": "code",
      "source": [
        "# 7. Количество различных домов по адресу (address9)\n",
        "houses_per_street = data.groupBy(\"address9\").agg(countDistinct(\"BBL\").alias(\"house_count\"))\n",
        "houses_per_street.show(5)\n"
      ],
      "metadata": {
        "colab": {
          "base_uri": "https://localhost:8080/"
        },
        "id": "R0ahFTAUintz",
        "outputId": "93afab8e-57de-4e4b-ce80-ad7c030c07e5"
      },
      "execution_count": 14,
      "outputs": [
        {
          "output_type": "stream",
          "name": "stdout",
          "text": [
            "+--------------------+-----------+\n",
            "|            address9|house_count|\n",
            "+--------------------+-----------+\n",
            "|1430 WEST 4TH   S...|          1|\n",
            "|    1261 SCHENECTADY|          1|\n",
            "|     38 MONROE PLACE|          1|\n",
            "|    35 CLIFTON PLACE|          1|\n",
            "|407 VANDERBILT AV...|          1|\n",
            "+--------------------+-----------+\n",
            "only showing top 5 rows\n",
            "\n"
          ]
        }
      ]
    },
    {
      "cell_type": "code",
      "source": [
        "from pyspark.sql.functions import max, count\n",
        "\n",
        "# 8. Максимальная стоимость продажи и количество зданий по районам и категориям зданий\n",
        "max_price_and_count = data.groupBy(\"neighborhood\", \"building_class_category\") \\\n",
        "                          .agg(max(\"sale_price\").alias(\"max_sale_price\"),\n",
        "                               count(\"*\").alias(\"building_count\"))\n",
        "max_price_and_count.show(5)\n"
      ],
      "metadata": {
        "colab": {
          "base_uri": "https://localhost:8080/"
        },
        "id": "tpRbTpKeAVnl",
        "outputId": "ccb303d2-ee88-4b1a-8555-fc996b1361d2"
      },
      "execution_count": 21,
      "outputs": [
        {
          "output_type": "stream",
          "name": "stdout",
          "text": [
            "+------------------+-----------------------+--------------+--------------+\n",
            "|      neighborhood|building_class_category|max_sale_price|building_count|\n",
            "+------------------+-----------------------+--------------+--------------+\n",
            "|  BROOKLYN HEIGHTS|    22  STORE BUILDINGS|         1.2E7|             7|\n",
            "|           MIDWOOD|   05  TAX CLASS 1 V...|     7881412.0|             4|\n",
            "|BEDFORD STUYVESANT|   05 TAX CLASS 1 VA...|     2980000.0|             2|\n",
            "|WILLIAMSBURG-SOUTH|   04  TAX CLASS 1 C...|     2520168.0|             1|\n",
            "|      BOROUGH PARK|   04  TAX CLASS 1 C...|     1800000.0|             2|\n",
            "+------------------+-----------------------+--------------+--------------+\n",
            "only showing top 5 rows\n",
            "\n"
          ]
        }
      ]
    },
    {
      "cell_type": "markdown",
      "source": [
        "\n",
        "\n",
        ">In the second part of the lab, we move on to the task of machine learning using Spark MLlib.\n",
        "We will build classification models to predict whether a customer will open a bank deposit as a result of a marketing campaign.\n",
        "The workflow includes data loading, preprocessing, feature collection, model training with hyperparameter selection, and model performance evaluation.\n"
      ],
      "metadata": {
        "id": "vP8KmvsCBa1T"
      }
    },
    {
      "cell_type": "code",
      "source": [
        "from pyspark.sql import SparkSession\n",
        "\n",
        "spark = SparkSession.builder.appName(\"BankMarketingClassification\").getOrCreate()\n",
        "\n",
        "# Load dataset (semicolon separator)\n",
        "df = spark.read.csv('/bank-additional-full.csv', header=True, inferSchema=True, sep=';')\n",
        "df.printSchema()\n",
        "df.show(5)\n"
      ],
      "metadata": {
        "colab": {
          "base_uri": "https://localhost:8080/"
        },
        "id": "kqeKPlp5Bqeb",
        "outputId": "b0e2f368-22f7-4130-887d-417e34d3ba65"
      },
      "execution_count": 27,
      "outputs": [
        {
          "output_type": "stream",
          "name": "stdout",
          "text": [
            "root\n",
            " |-- age: integer (nullable = true)\n",
            " |-- job: string (nullable = true)\n",
            " |-- marital: string (nullable = true)\n",
            " |-- education: string (nullable = true)\n",
            " |-- default: string (nullable = true)\n",
            " |-- housing: string (nullable = true)\n",
            " |-- loan: string (nullable = true)\n",
            " |-- contact: string (nullable = true)\n",
            " |-- month: string (nullable = true)\n",
            " |-- day_of_week: string (nullable = true)\n",
            " |-- duration: integer (nullable = true)\n",
            " |-- campaign: integer (nullable = true)\n",
            " |-- pdays: integer (nullable = true)\n",
            " |-- previous: integer (nullable = true)\n",
            " |-- poutcome: string (nullable = true)\n",
            " |-- emp.var.rate: double (nullable = true)\n",
            " |-- cons.price.idx: double (nullable = true)\n",
            " |-- cons.conf.idx: double (nullable = true)\n",
            " |-- euribor3m: double (nullable = true)\n",
            " |-- nr.employed: double (nullable = true)\n",
            " |-- y: string (nullable = true)\n",
            "\n",
            "+---+---------+-------+-----------+-------+-------+----+---------+-----+-----------+--------+--------+-----+--------+-----------+------------+--------------+-------------+---------+-----------+---+\n",
            "|age|      job|marital|  education|default|housing|loan|  contact|month|day_of_week|duration|campaign|pdays|previous|   poutcome|emp.var.rate|cons.price.idx|cons.conf.idx|euribor3m|nr.employed|  y|\n",
            "+---+---------+-------+-----------+-------+-------+----+---------+-----+-----------+--------+--------+-----+--------+-----------+------------+--------------+-------------+---------+-----------+---+\n",
            "| 56|housemaid|married|   basic.4y|     no|     no|  no|telephone|  may|        mon|     261|       1|  999|       0|nonexistent|         1.1|        93.994|        -36.4|    4.857|     5191.0| no|\n",
            "| 57| services|married|high.school|unknown|     no|  no|telephone|  may|        mon|     149|       1|  999|       0|nonexistent|         1.1|        93.994|        -36.4|    4.857|     5191.0| no|\n",
            "| 37| services|married|high.school|     no|    yes|  no|telephone|  may|        mon|     226|       1|  999|       0|nonexistent|         1.1|        93.994|        -36.4|    4.857|     5191.0| no|\n",
            "| 40|   admin.|married|   basic.6y|     no|     no|  no|telephone|  may|        mon|     151|       1|  999|       0|nonexistent|         1.1|        93.994|        -36.4|    4.857|     5191.0| no|\n",
            "| 56| services|married|high.school|     no|     no| yes|telephone|  may|        mon|     307|       1|  999|       0|nonexistent|         1.1|        93.994|        -36.4|    4.857|     5191.0| no|\n",
            "+---+---------+-------+-----------+-------+-------+----+---------+-----+-----------+--------+--------+-----+--------+-----------+------------+--------------+-------------+---------+-----------+---+\n",
            "only showing top 5 rows\n",
            "\n"
          ]
        }
      ]
    },
    {
      "cell_type": "code",
      "source": [
        "from pyspark.sql.functions import when\n",
        "\n",
        "df = df.withColumn(\"label\", when(df.y == 'yes', 1).otherwise(0)).drop(\"y\")\n"
      ],
      "metadata": {
        "id": "glBFxbeNGZeQ"
      },
      "execution_count": 28,
      "outputs": []
    },
    {
      "cell_type": "code",
      "source": [
        "from pyspark.ml.feature import StringIndexer, OneHotEncoder\n",
        "from pyspark.ml.feature import VectorAssembler\n",
        "from pyspark.ml import Pipeline\n",
        "\n",
        "# Rename columns: replace '.' with '_'\n",
        "for col_name in df.columns:\n",
        "    if '.' in col_name:\n",
        "        df = df.withColumnRenamed(col_name, col_name.replace('.', '_'))\n",
        "\n",
        "categorical_cols = [field for (field, dtype) in df.dtypes if dtype == 'string' and field != 'label']\n",
        "numeric_cols = [field for (field, dtype) in df.dtypes if dtype in ('int', 'double', 'float') and field != 'label']\n",
        "\n",
        "# Apply StringIndexer and OneHotEncoder\n",
        "indexers = [StringIndexer(inputCol=col, outputCol=col + \"_idx\") for col in categorical_cols]\n",
        "encoders = [OneHotEncoder(inputCol=col + \"_idx\", outputCol=col + \"_vec\") for col in categorical_cols]\n"
      ],
      "metadata": {
        "id": "dkEoOfmBGgmL"
      },
      "execution_count": 35,
      "outputs": []
    },
    {
      "cell_type": "code",
      "source": [
        "# Assemble feature vector\n",
        "feature_cols = [col + \"_vec\" for col in categorical_cols] + numeric_cols\n",
        "assembler = VectorAssembler(inputCols=feature_cols, outputCol=\"features\")\n",
        "\n",
        "pipeline = Pipeline(stages=indexers + encoders + [assembler])\n",
        "assembled_data = pipeline.fit(df).transform(df)\n",
        "assembled_data.select(\"features\").show(3, truncate=False)"
      ],
      "metadata": {
        "colab": {
          "base_uri": "https://localhost:8080/"
        },
        "id": "UWCO4rwjIjKN",
        "outputId": "fcba0f27-dec5-4303-b0f4-3780f84b1689"
      },
      "execution_count": 36,
      "outputs": [
        {
          "output_type": "stream",
          "name": "stdout",
          "text": [
            "+----------------------------------------------------------------------------------------------------------------------------------------------------+\n",
            "|features                                                                                                                                            |\n",
            "+----------------------------------------------------------------------------------------------------------------------------------------------------+\n",
            "|(53,[8,11,18,21,24,25,28,38,41,43,44,45,46,48,49,50,51,52],[1.0,1.0,1.0,1.0,1.0,1.0,1.0,1.0,1.0,56.0,261.0,1.0,999.0,1.1,93.994,-36.4,4.857,5191.0])|\n",
            "|(53,[3,11,15,22,24,25,28,38,41,43,44,45,46,48,49,50,51,52],[1.0,1.0,1.0,1.0,1.0,1.0,1.0,1.0,1.0,57.0,149.0,1.0,999.0,1.1,93.994,-36.4,4.857,5191.0])|\n",
            "|(53,[3,11,15,21,23,25,28,38,41,43,44,45,46,48,49,50,51,52],[1.0,1.0,1.0,1.0,1.0,1.0,1.0,1.0,1.0,37.0,226.0,1.0,999.0,1.1,93.994,-36.4,4.857,5191.0])|\n",
            "+----------------------------------------------------------------------------------------------------------------------------------------------------+\n",
            "only showing top 3 rows\n",
            "\n"
          ]
        }
      ]
    },
    {
      "cell_type": "code",
      "source": [
        "# 9. Split the dataset\n",
        "train_data, test_data = assembled_data.randomSplit([0.8, 0.2], seed=42)\n",
        "print(\"Training examples:\", train_data.count(), \"Testing examples:\", test_data.count())\n",
        "\n",
        "# 10. Initialize models\n",
        "from pyspark.ml.classification import LogisticRegression, DecisionTreeClassifier, RandomForestClassifier\n",
        "\n",
        "lr = LogisticRegression(featuresCol=\"features\", labelCol=\"label\")\n",
        "dt = DecisionTreeClassifier(featuresCol=\"features\", labelCol=\"label\")\n",
        "rf = RandomForestClassifier(featuresCol=\"features\", labelCol=\"label\")\n",
        "\n",
        "# 11. Setup hyperparameter grids\n",
        "from pyspark.ml.tuning import ParamGridBuilder\n",
        "\n",
        "paramGrid_lr = ParamGridBuilder() \\\n",
        "    .addGrid(lr.maxIter, [50, 100]) \\\n",
        "    .addGrid(lr.regParam, [0.01, 0.1]) \\\n",
        "    .build()\n",
        "\n",
        "paramGrid_dt = ParamGridBuilder().addGrid(dt.maxDepth, [5, 10]).build()\n",
        "\n",
        "paramGrid_rf = ParamGridBuilder() \\\n",
        "    .addGrid(rf.maxDepth, [5, 10]) \\\n",
        "    .addGrid(rf.numTrees, [10, 50]) \\\n",
        "    .build()\n",
        "\n",
        "# 12. Setup cross-validation\n",
        "from pyspark.ml.evaluation import MulticlassClassificationEvaluator\n",
        "from pyspark.ml.tuning import CrossValidator\n",
        "\n",
        "evaluator = MulticlassClassificationEvaluator(labelCol=\"label\", metricName=\"accuracy\")\n",
        "\n",
        "cv_lr = CrossValidator(estimator=lr, estimatorParamMaps=paramGrid_lr, evaluator=evaluator, numFolds=5)\n",
        "cv_dt = CrossValidator(estimator=dt, estimatorParamMaps=paramGrid_dt, evaluator=evaluator, numFolds=5)\n",
        "cv_rf = CrossValidator(estimator=rf, estimatorParamMaps=paramGrid_rf, evaluator=evaluator, numFolds=5)\n",
        "\n",
        "# 13. Train models\n",
        "model_lr = cv_lr.fit(train_data)\n",
        "model_dt = cv_dt.fit(train_data)\n",
        "model_rf = cv_rf.fit(train_data)\n",
        "\n",
        "# 14. Evaluate models\n",
        "\n",
        "def evaluate(model, test_data):\n",
        "    pred = model.transform(test_data)\n",
        "    acc = evaluator.evaluate(pred, {evaluator.metricName: \"accuracy\"})\n",
        "    prec = evaluator.evaluate(pred, {evaluator.metricName: \"weightedPrecision\"})\n",
        "    rec = evaluator.evaluate(pred, {evaluator.metricName: \"weightedRecall\"})\n",
        "    f1 = evaluator.evaluate(pred, {evaluator.metricName: \"f1\"})\n",
        "    return acc, prec, rec, f1\n",
        "\n",
        "acc_lr, prec_lr, rec_lr, f1_lr = evaluate(model_lr, test_data)\n",
        "acc_dt, prec_dt, rec_dt, f1_dt = evaluate(model_dt, test_data)\n",
        "acc_rf, prec_rf, rec_rf, f1_rf = evaluate(model_rf, test_data)\n",
        "\n",
        "print(f\"Logistic Regression -> Accuracy: {acc_lr:.3f}, Precision: {prec_lr:.3f}, Recall: {rec_lr:.3f}, F1: {f1_lr:.3f}\")\n",
        "print(f\"Decision Tree       -> Accuracy: {acc_dt:.3f}, Precision: {prec_dt:.3f}, Recall: {rec_dt:.3f}, F1: {f1_dt:.3f}\")\n",
        "print(f\"Random Forest       -> Accuracy: {acc_rf:.3f}, Precision: {prec_rf:.3f}, Recall: {rec_rf:.3f}, F1: {f1_rf:.3f}\")\n"
      ],
      "metadata": {
        "colab": {
          "base_uri": "https://localhost:8080/"
        },
        "id": "0mYcG9IlJFKA",
        "outputId": "1c93eeb7-6fa9-4d6c-b73f-bcb8c8352fb9"
      },
      "execution_count": 38,
      "outputs": [
        {
          "output_type": "stream",
          "name": "stdout",
          "text": [
            "Training examples: 32977 Testing examples: 8211\n",
            "Logistic Regression -> Accuracy: 0.909, Precision: 0.895, Recall: 0.909, F1: 0.897\n",
            "Decision Tree       -> Accuracy: 0.911, Precision: 0.906, Recall: 0.911, F1: 0.908\n",
            "Random Forest       -> Accuracy: 0.911, Precision: 0.898, Recall: 0.911, F1: 0.896\n"
          ]
        }
      ]
    },
    {
      "cell_type": "code",
      "source": [
        "# Построение матрицы ошибок для Random Forest\n",
        "predictions_rf = model_rf.transform(test_data)\n",
        "predictions_rf.groupBy(\"label\", \"prediction\").count().show()\n"
      ],
      "metadata": {
        "colab": {
          "base_uri": "https://localhost:8080/"
        },
        "id": "N2s-W6jkWb9X",
        "outputId": "ee7cdcd9-d39f-4061-af7f-a8234cf33b2b"
      },
      "execution_count": 39,
      "outputs": [
        {
          "output_type": "stream",
          "name": "stdout",
          "text": [
            "+-----+----------+-----+\n",
            "|label|prediction|count|\n",
            "+-----+----------+-----+\n",
            "|    1|       0.0|  613|\n",
            "|    0|       0.0| 7192|\n",
            "|    1|       1.0|  289|\n",
            "|    0|       1.0|  117|\n",
            "+-----+----------+-----+\n",
            "\n"
          ]
        }
      ]
    }
  ]
}